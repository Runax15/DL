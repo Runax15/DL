{
 "cells": [
  {
   "cell_type": "markdown",
   "metadata": {
    "executionInfo": {
     "elapsed": 3371,
     "status": "ok",
     "timestamp": 1741771075778,
     "user": {
      "displayName": "SHRUSHTI GAVALI",
      "userId": "17409456323927401192"
     },
     "user_tz": -330
    },
    "id": "JY6IC1TD_zoj"
   },
   "source": [
    "# Random Forest (Classification) using Libraries"
   ]
  },
  {
   "cell_type": "code",
   "execution_count": 4,
   "metadata": {},
   "outputs": [],
   "source": [
    "import numpy as np\n",
    "import pandas as pd\n",
    "import matplotlib.pyplot as plt\n",
    "import seaborn as sns\n",
    "from sklearn.model_selection import train_test_split\n",
    "from sklearn.metrics import mean_squared_error, r2_score, accuracy_score, confusion_matrix, classification_report\n",
    "from sklearn.tree import DecisionTreeClassifier\n",
    "from sklearn import tree\n",
    "from sklearn.ensemble import RandomForestClassifier\n",
    "from sklearn.preprocessing import LabelEncoder\n",
    "import seaborn as sns"
   ]
  },
  {
   "cell_type": "code",
   "execution_count": 9,
   "metadata": {
    "executionInfo": {
     "elapsed": 4,
     "status": "ok",
     "timestamp": 1741771102421,
     "user": {
      "displayName": "SHRUSHTI GAVALI",
      "userId": "17409456323927401192"
     },
     "user_tz": -330
    },
    "id": "0wW7Vvd9AONU"
   },
   "outputs": [],
   "source": [
    "golf = pd.read_csv(\"D:/12320158/Datasets/Golf.csv\")\n",
    "\n",
    "label_encoders = {}\n",
    "for column in golf.columns[:-1]:\n",
    "    le = LabelEncoder()\n",
    "    golf[column] = le.fit_transform(golf[column])\n",
    "    label_encoders[column] = le\n",
    "\n",
    "y_encoder = LabelEncoder()\n",
    "golf[golf.columns[-1]] = y_encoder.fit_transform(golf[golf.columns[-1]])\n",
    "\n",
    "X = golf.iloc[:, :-1].values\n",
    "y = golf.iloc[:, -1].values\n",
    "\n",
    "X_train, X_test, y_train, y_test = train_test_split(X, y, test_size=0.2, random_state=42)"
   ]
  },
  {
   "cell_type": "code",
   "execution_count": 11,
   "metadata": {
    "colab": {
     "base_uri": "https://localhost:8080/"
    },
    "executionInfo": {
     "elapsed": 3,
     "status": "ok",
     "timestamp": 1741771108986,
     "user": {
      "displayName": "SHRUSHTI GAVALI",
      "userId": "17409456323927401192"
     },
     "user_tz": -330
    },
    "id": "wxst8cBJAXsG",
    "outputId": "e35f2220-6272-44a4-f934-5a43335b64c3"
   },
   "outputs": [
    {
     "name": "stdout",
     "output_type": "stream",
     "text": [
      "Accuracy: 66.67%\n",
      "MSE: 0.3333, RMSE: 0.5774, R² Score: -0.5000\n"
     ]
    }
   ],
   "source": [
    "rf_clf = RandomForestClassifier(n_estimators=10, criterion='entropy', max_depth=5, random_state=42)\n",
    "rf_clf.fit(X_train, y_train)\n",
    "y_pred = rf_clf.predict(X_test)\n",
    "# Accuracy\n",
    "accuracy = accuracy_score(y_test, y_pred) * 100\n",
    "print(f'Accuracy: {accuracy:.2f}%')\n",
    "\n",
    "mse = mean_squared_error(y_test, y_pred)\n",
    "rmse = np.sqrt(mse)\n",
    "r2 = r2_score(y_test, y_pred)\n",
    "print(f'MSE: {mse:.4f}, RMSE: {rmse:.4f}, R² Score: {r2:.4f}')\n"
   ]
  },
  {
   "cell_type": "code",
   "execution_count": 13,
   "metadata": {
    "colab": {
     "base_uri": "https://localhost:8080/",
     "height": 410
    },
    "executionInfo": {
     "elapsed": 5,
     "status": "ok",
     "timestamp": 1741771189546,
     "user": {
      "displayName": "SHRUSHTI GAVALI",
      "userId": "17409456323927401192"
     },
     "user_tz": -330
    },
    "id": "HafXIYWwBInc",
    "outputId": "c0941209-ef09-4da5-eb81-99bf5ed1af2d"
   },
   "outputs": [
    {
     "data": {
      "image/png": "[encoded data removed]",
      "text/plain": [
       "<Figure size 600x400 with 2 Axes>"
      ]
     },
     "metadata": {},
     "output_type": "display_data"
    }
   ],
   "source": [
    "# Plot Confusion Matrix\n",
    "conf_matrix = confusion_matrix(y_test, y_pred)\n",
    "plt.figure(figsize=(6, 4))\n",
    "sns.heatmap(conf_matrix, annot=True, fmt='d', cmap='PuBuGn', xticklabels=y_encoder.classes_, yticklabels=y_encoder.classes_)\n",
    "plt.xlabel('Predicted')\n",
    "plt.ylabel('Actual')\n",
    "plt.title('Confusion Matrix')\n",
    "plt.show()"
   ]
  },
  {
   "cell_type": "code",
   "execution_count": null,
   "metadata": {
    "id": "arMxgGUbpyXI"
   },
   "outputs": [],
   "source": []
  }
 ],
 "metadata": {
  "colab": {
   "provenance": []
  },
  "kernelspec": {
   "display_name": "Python [conda env:base] *",
   "language": "python",
   "name": "conda-base-py"
  },
  "language_info": {
   "codemirror_mode": {
    "name": "ipython",
    "version": 3
   },
   "file_extension": ".py",
   "mimetype": "text/x-python",
   "name": "python",
   "nbconvert_exporter": "python",
   "pygments_lexer": "ipython3",
   "version": "3.12.7"
  }
 },
 "nbformat": 4,
 "nbformat_minor": 4
}
