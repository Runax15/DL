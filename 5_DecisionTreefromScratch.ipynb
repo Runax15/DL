{
 "cells": [
  {
   "cell_type": "markdown",
   "metadata": {
    "executionInfo": {
     "elapsed": 1454,
     "status": "ok",
     "timestamp": 1740989226184,
     "user": {
      "displayName": "SHRUSHTI GAVALI",
      "userId": "17409456323927401192"
     },
     "user_tz": -330
    },
    "id": "hxO4Bi3W8yrj"
   },
   "source": [
    "# Decision Tree (Classification) from Scratch"
   ]
  },
  {
   "cell_type": "code",
   "execution_count": 5,
   "metadata": {},
   "outputs": [],
   "source": [
    "import numpy as np\n",
    "import pandas as pd\n",
    "import matplotlib.pyplot as plt\n",
    "import seaborn as sns\n",
    "from sklearn.model_selection import train_test_split\n",
    "from sklearn.preprocessing import LabelEncoder\n",
    "#from sklearn import tree"
   ]
  },
  {
   "cell_type": "code",
   "execution_count": 7,
   "metadata": {
    "executionInfo": {
     "elapsed": 2,
     "status": "ok",
     "timestamp": 1740989241430,
     "user": {
      "displayName": "SHRUSHTI GAVALI",
      "userId": "17409456323927401192"
     },
     "user_tz": -330
    },
    "id": "-lsUZL3H9Eto"
   },
   "outputs": [],
   "source": [
    "golf = pd.read_csv(\"D:/12320158/Datasets/Golf.csv\")\n",
    "\n",
    "label_encoders = {}\n",
    "for column in golf.columns[:-1]:  \n",
    "    le = LabelEncoder()\n",
    "    golf[column] = le.fit_transform(golf[column])\n",
    "    label_encoders[column] = le"
   ]
  },
  {
   "cell_type": "code",
   "execution_count": 9,
   "metadata": {
    "executionInfo": {
     "elapsed": 2,
     "status": "ok",
     "timestamp": 1740989269941,
     "user": {
      "displayName": "SHRUSHTI GAVALI",
      "userId": "17409456323927401192"
     },
     "user_tz": -330
    },
    "id": "DfkibA819Jgx"
   },
   "outputs": [],
   "source": [
    "y_encoder = LabelEncoder()\n",
    "golf[golf.columns[-1]] = y_encoder.fit_transform(golf[golf.columns[-1]])\n",
    "\n",
    "X = golf.iloc[:, :-1].values  \n",
    "y = golf.iloc[:, -1].values  \n",
    "\n",
    "X_train, X_test, y_train, y_test = train_test_split(X, y, test_size=0.2, random_state=42)"
   ]
  },
  {
   "cell_type": "code",
   "execution_count": 11,
   "metadata": {
    "executionInfo": {
     "elapsed": 5,
     "status": "ok",
     "timestamp": 1740989299367,
     "user": {
      "displayName": "SHRUSHTI GAVALI",
      "userId": "17409456323927401192"
     },
     "user_tz": -330
    },
    "id": "dWHMhVbt9arp"
   },
   "outputs": [],
   "source": [
    "class Node:\n",
    "    def __init__(self, feature=None, threshold=None, left=None, right=None, value=None):\n",
    "        self.feature = feature\n",
    "        self.threshold = threshold\n",
    "        self.left = left\n",
    "        self.right = right\n",
    "        self.value = value\n",
    "\n",
    "def entropy(y):\n",
    "    classes, counts = np.unique(y, return_counts=True)\n",
    "    prob = counts / counts.sum()\n",
    "    return -np.sum(prob * np.log2(prob))"
   ]
  },
  {
   "cell_type": "code",
   "execution_count": 13,
   "metadata": {},
   "outputs": [],
   "source": [
    "def best_split(X, y):\n",
    "    m, n = X.shape\n",
    "    best_gain, best_feature, best_threshold = 0, None, None\n",
    "    parent_entropy = entropy(y)\n",
    "    for feature in range(n):\n",
    "        thresholds = np.unique(X[:, feature])\n",
    "        for threshold in thresholds:\n",
    "            left_idx = X[:, feature] <= threshold\n",
    "            right_idx = ~left_idx\n",
    "            if sum(left_idx) == 0 or sum(right_idx) == 0:\n",
    "                continue\n",
    "            left_entropy = entropy(y[left_idx])\n",
    "            right_entropy = entropy(y[right_idx])\n",
    "            weighted_entropy = (sum(left_idx) / m) * left_entropy + (sum(right_idx) / m) * right_entropy\n",
    "            info_gain = parent_entropy - weighted_entropy\n",
    "            if info_gain > best_gain:\n",
    "                best_gain, best_feature, best_threshold = info_gain, feature, threshold\n",
    "    return best_feature, best_threshold"
   ]
  },
  {
   "cell_type": "code",
   "execution_count": 15,
   "metadata": {},
   "outputs": [
    {
     "name": "stdout",
     "output_type": "stream",
     "text": [
      "Entropy :  0.9402859586706311\n"
     ]
    }
   ],
   "source": [
    "def build_tree(X, y, depth=0, max_depth=5):\n",
    "    if len(set(y)) == 1 or depth == max_depth:\n",
    "        return Node(value=max(set(y), key=list(y).count))\n",
    "    feature, threshold = best_split(X, y)\n",
    "    if feature is None:\n",
    "        return Node(value=max(set(y), key=list(y).count))\n",
    "    left_idx = X[:, feature] <= threshold\n",
    "    right_idx = ~left_idx\n",
    "    left = build_tree(X[left_idx], y[left_idx], depth + 1, max_depth)\n",
    "    right = build_tree(X[right_idx], y[right_idx], depth + 1, max_depth)\n",
    "    return Node(feature, threshold, left, right)\n",
    "\n",
    "print(\"Entropy : \", entropy(y))"
   ]
  },
  {
   "cell_type": "code",
   "execution_count": 17,
   "metadata": {
    "executionInfo": {
     "elapsed": 2,
     "status": "ok",
     "timestamp": 1740989320513,
     "user": {
      "displayName": "SHRUSHTI GAVALI",
      "userId": "17409456323927401192"
     },
     "user_tz": -330
    },
    "id": "B5m9SQNK9ehg"
   },
   "outputs": [],
   "source": [
    "def predict_one(node, x):\n",
    "    if node.value is not None:\n",
    "        return node.value\n",
    "    if x[node.feature] <= node.threshold:\n",
    "        return predict_one(node.left, x)\n",
    "    else:\n",
    "        return predict_one(node.right, x)\n",
    "\n",
    "def predict(tree, X):\n",
    "    return np.array([predict_one(tree, x) for x in X])\n",
    "\n",
    "# train \n",
    "root = build_tree(X_train, y_train, max_depth=5)\n",
    "y_pred = predict(root, X_test)\n",
    "# Plot Decision Tree \n",
    "#tree.plot_tree(root)"
   ]
  },
  {
   "cell_type": "code",
   "execution_count": 19,
   "metadata": {
    "colab": {
     "base_uri": "https://localhost:8080/",
     "height": 445
    },
    "executionInfo": {
     "elapsed": 452,
     "status": "ok",
     "timestamp": 1740989381713,
     "user": {
      "displayName": "SHRUSHTI GAVALI",
      "userId": "17409456323927401192"
     },
     "user_tz": -330
    },
    "id": "Lh8PvTnv9--1",
    "outputId": "3ce74268-afc4-48c0-fd7f-07825fe6bbb2"
   },
   "outputs": [
    {
     "name": "stdout",
     "output_type": "stream",
     "text": [
      "Accuracy: 100.00%\n",
      "MSE: 0.0000, RMSE: 0.0000, R² Score: 1.0000\n"
     ]
    },
    {
     "data": {
      "image/png": "[encoded data removed]",
      "text/plain": [
       "<Figure size 600x400 with 2 Axes>"
      ]
     },
     "metadata": {},
     "output_type": "display_data"
    }
   ],
   "source": [
    "from sklearn.metrics import mean_squared_error, r2_score, accuracy_score, confusion_matrix\n",
    "\n",
    "accuracy = (y_pred == y_test).mean() * 100\n",
    "print(f'Accuracy: {accuracy:.2f}%')\n",
    "\n",
    "mse = mean_squared_error(y_test, y_pred)\n",
    "rmse = np.sqrt(mse)\n",
    "r2 = r2_score(y_test, y_pred)\n",
    "print(f'MSE: {mse:.4f}, RMSE: {rmse:.4f}, R² Score: {r2:.4f}')\n",
    "\n",
    "# Confusion Matrix\n",
    "conf_matrix = confusion_matrix(y_test, y_pred)\n",
    "plt.figure(figsize=(6, 4))\n",
    "sns.heatmap(conf_matrix, annot=True, fmt='d', cmap='BuPu', xticklabels=y_encoder.classes_, yticklabels=y_encoder.classes_)\n",
    "plt.xlabel('Predicted')\n",
    "plt.ylabel('Actual')\n",
    "plt.title('Confusion Matrix')\n",
    "plt.show()"
   ]
  },
  {
   "cell_type": "code",
   "execution_count": null,
   "metadata": {},
   "outputs": [],
   "source": []
  }
 ],
 "metadata": {
  "colab": {
   "authorship_tag": "ABX9TyPvrqrU5DnVTe1DoMGRHnz0",
   "provenance": []
  },
  "kernelspec": {
   "display_name": "Python [conda env:base] *",
   "language": "python",
   "name": "conda-base-py"
  },
  "language_info": {
   "codemirror_mode": {
    "name": "ipython",
    "version": 3
   },
   "file_extension": ".py",
   "mimetype": "text/x-python",
   "name": "python",
   "nbconvert_exporter": "python",
   "pygments_lexer": "ipython3",
   "version": "3.12.7"
  }
 },
 "nbformat": 4,
 "nbformat_minor": 4
}
