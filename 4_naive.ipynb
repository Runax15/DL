{
 "cells": [
  {
   "cell_type": "code",
   "execution_count": 9,
   "metadata": {},
   "outputs": [
    {
     "name": "stdout",
     "output_type": "stream",
     "text": [
      "Accuracy: 1.0\n",
      "\n",
      "Prediction Results:\n",
      "Sample 1: Actual = versicolor, Predicted = versicolor → ✅ Correct\n",
      "Sample 2: Actual = setosa, Predicted = setosa → ✅ Correct\n",
      "Sample 3: Actual = virginica, Predicted = virginica → ✅ Correct\n",
      "Sample 4: Actual = versicolor, Predicted = versicolor → ✅ Correct\n",
      "Sample 5: Actual = versicolor, Predicted = versicolor → ✅ Correct\n",
      "Sample 6: Actual = setosa, Predicted = setosa → ✅ Correct\n",
      "Sample 7: Actual = versicolor, Predicted = versicolor → ✅ Correct\n",
      "Sample 8: Actual = virginica, Predicted = virginica → ✅ Correct\n",
      "Sample 9: Actual = versicolor, Predicted = versicolor → ✅ Correct\n",
      "Sample 10: Actual = versicolor, Predicted = versicolor → ✅ Correct\n",
      "Sample 11: Actual = virginica, Predicted = virginica → ✅ Correct\n",
      "Sample 12: Actual = setosa, Predicted = setosa → ✅ Correct\n",
      "Sample 13: Actual = setosa, Predicted = setosa → ✅ Correct\n",
      "Sample 14: Actual = setosa, Predicted = setosa → ✅ Correct\n",
      "Sample 15: Actual = setosa, Predicted = setosa → ✅ Correct\n",
      "Sample 16: Actual = versicolor, Predicted = versicolor → ✅ Correct\n",
      "Sample 17: Actual = virginica, Predicted = virginica → ✅ Correct\n",
      "Sample 18: Actual = versicolor, Predicted = versicolor → ✅ Correct\n",
      "Sample 19: Actual = versicolor, Predicted = versicolor → ✅ Correct\n",
      "Sample 20: Actual = virginica, Predicted = virginica → ✅ Correct\n",
      "Sample 21: Actual = setosa, Predicted = setosa → ✅ Correct\n",
      "Sample 22: Actual = virginica, Predicted = virginica → ✅ Correct\n",
      "Sample 23: Actual = setosa, Predicted = setosa → ✅ Correct\n",
      "Sample 24: Actual = virginica, Predicted = virginica → ✅ Correct\n",
      "Sample 25: Actual = virginica, Predicted = virginica → ✅ Correct\n",
      "Sample 26: Actual = virginica, Predicted = virginica → ✅ Correct\n",
      "Sample 27: Actual = virginica, Predicted = virginica → ✅ Correct\n",
      "Sample 28: Actual = virginica, Predicted = virginica → ✅ Correct\n",
      "Sample 29: Actual = setosa, Predicted = setosa → ✅ Correct\n",
      "Sample 30: Actual = setosa, Predicted = setosa → ✅ Correct\n"
     ]
    }
   ],
   "source": [
    "# Step 1: Import libraries\n",
    "import pandas as pd\n",
    "from sklearn.datasets import load_iris\n",
    "from sklearn.model_selection import train_test_split\n",
    "from sklearn.naive_bayes import GaussianNB\n",
    "from sklearn.metrics import accuracy_score\n",
    "\n",
    "# Step 2: Load dataset from CSV\n",
    "df = load_iris() # Replace with your actual file name\n",
    "\n",
    "# Step 3: Split into features and target\n",
    "X = df.data  # All columns except last are features\n",
    "y = df.target # Last column is the target class\n",
    "target_names=df.target_names\n",
    "# Step 4: Train-test split\n",
    "X_train, X_test, y_train, y_test = train_test_split(X, y, test_size=0.2, random_state=42)\n",
    "\n",
    "# Step 5: Create and train Naive Bayes classifier\n",
    "model = GaussianNB()\n",
    "model.fit(X_train, y_train)\n",
    "\n",
    "# Step 6: Predict and evaluate\n",
    "y_pred = model.predict(X_test)\n",
    "print(\"Accuracy:\", accuracy_score(y_test, y_pred))\n",
    "\n",
    "# Step 7: Print predictions with status\n",
    "print(\"\\nPrediction Results:\")\n",
    "for i in range(len(y_test)):\n",
    "    actual = target_names[y_test[i]]\n",
    "    predicted = target_names[y_pred[i]]\n",
    "    status = \"✅ Correct\" if actual == predicted else \"❌ Wrong\"\n",
    "    print(f\"Sample {i+1}: Actual = {actual}, Predicted = {predicted} → {status}\")"
   ]
  }
 ],
 "metadata": {
  "kernelspec": {
   "display_name": "Python 3",
   "language": "python",
   "name": "python3"
  },
  "language_info": {
   "codemirror_mode": {
    "name": "ipython",
    "version": 3
   },
   "file_extension": ".py",
   "mimetype": "text/x-python",
   "name": "python",
   "nbconvert_exporter": "python",
   "pygments_lexer": "ipython3",
   "version": "3.11.5"
  }
 },
 "nbformat": 4,
 "nbformat_minor": 2
}
