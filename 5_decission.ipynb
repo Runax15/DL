{
 "cells": [
  {
   "cell_type": "code",
   "execution_count": 2,
   "metadata": {},
   "outputs": [
    {
     "name": "stdout",
     "output_type": "stream",
     "text": [
      "Decision Tree Classifier:\n",
      "Train Accuracy: 1.0\n",
      "Test Accuracy: 1.0\n",
      "\n",
      "After Pruning:\n",
      "Train Accuracy: 0.675\n",
      "Test Accuracy: 0.6333333333333333\n",
      "\n",
      "Random Forest Accuracy: 1.0\n",
      "AdaBoost Accuracy: 1.0\n"
     ]
    },
    {
     "name": "stderr",
     "output_type": "stream",
     "text": [
      "/Users/devanshgoyal/.pyenv/versions/3.11.5/lib/python3.11/site-packages/sklearn/ensemble/_weight_boosting.py:527: FutureWarning: The SAMME.R algorithm (the default) is deprecated and will be removed in 1.6. Use the SAMME algorithm to circumvent this warning.\n",
      "  warnings.warn(\n"
     ]
    }
   ],
   "source": [
    "# Step 1: Imports\n",
    "from sklearn.datasets import load_iris\n",
    "from sklearn.model_selection import train_test_split\n",
    "from sklearn.tree import DecisionTreeClassifier, plot_tree\n",
    "from sklearn.ensemble import RandomForestClassifier, AdaBoostClassifier\n",
    "from sklearn.metrics import accuracy_score\n",
    "import matplotlib.pyplot as plt\n",
    "\n",
    "# Step 2: Load dataset and split\n",
    "iris = load_iris()\n",
    "X, y = iris.data, iris.target\n",
    "X_train, X_test, y_train, y_test = train_test_split(X, y, test_size=0.2, random_state=42)\n",
    "\n",
    "# Step 3: Train Decision Tree Classifier\n",
    "clf = DecisionTreeClassifier(random_state=0)\n",
    "clf.fit(X_train, y_train)\n",
    "\n",
    "# Step 4: Evaluate\n",
    "print(\"Decision Tree Classifier:\")\n",
    "print(\"Train Accuracy:\", accuracy_score(y_train, clf.predict(X_train)))\n",
    "print(\"Test Accuracy:\", accuracy_score(y_test, clf.predict(X_test)))\n",
    "\n",
    "# Step 5: Cost Complexity Pruning\n",
    "path = clf.cost_complexity_pruning_path(X_train, y_train)\n",
    "ccp_alpha = path.ccp_alphas[-2]  # pick a reasonable alpha\n",
    "pruned_clf = DecisionTreeClassifier(random_state=0, ccp_alpha=ccp_alpha)\n",
    "pruned_clf.fit(X_train, y_train)\n",
    "\n",
    "print(\"\\nAfter Pruning:\")\n",
    "print(\"Train Accuracy:\", accuracy_score(y_train, pruned_clf.predict(X_train)))\n",
    "print(\"Test Accuracy:\", accuracy_score(y_test, pruned_clf.predict(X_test)))\n",
    "\n",
    "# Step 6: Random Forest\n",
    "rf = RandomForestClassifier(random_state=0)\n",
    "rf.fit(X_train, y_train)\n",
    "print(\"\\nRandom Forest Accuracy:\", accuracy_score(y_test, rf.predict(X_test)))\n",
    "\n",
    "# Step 7: AdaBoost with Decision Stumps\n",
    "ada = AdaBoostClassifier(estimator=DecisionTreeClassifier(max_depth=1), n_estimators=50, random_state=0)\n",
    "ada.fit(X_train, y_train)\n",
    "print(\"AdaBoost Accuracy:\", accuracy_score(y_test, ada.predict(X_test)))"
   ]
  }
 ],
 "metadata": {
  "kernelspec": {
   "display_name": "Python 3",
   "language": "python",
   "name": "python3"
  },
  "language_info": {
   "codemirror_mode": {
    "name": "ipython",
    "version": 3
   },
   "file_extension": ".py",
   "mimetype": "text/x-python",
   "name": "python",
   "nbconvert_exporter": "python",
   "pygments_lexer": "ipython3",
   "version": "3.11.5"
  }
 },
 "nbformat": 4,
 "nbformat_minor": 2
}
